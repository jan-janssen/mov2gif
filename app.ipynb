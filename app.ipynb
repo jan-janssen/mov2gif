{
 "cells": [
  {
   "cell_type": "markdown",
   "metadata": {},
   "source": [
    "# Convert .mov file to .gif"
   ]
  },
  {
   "cell_type": "code",
   "execution_count": 1,
   "metadata": {},
   "outputs": [],
   "source": [
    "import os\n",
    "import subprocess\n",
    "import ipywidgets as widgets\n",
    "from IPython.display import HTML"
   ]
  },
  {
   "cell_type": "code",
   "execution_count": 2,
   "metadata": {},
   "outputs": [],
   "source": [
    "res = widgets.Dropdown(\n",
    "    options=['600x400', '800x600'],\n",
    "    value='600x400',\n",
    "    description='Resolution:',\n",
    "    disabled=False,\n",
    ")"
   ]
  },
  {
   "cell_type": "code",
   "execution_count": 3,
   "metadata": {},
   "outputs": [],
   "source": [
    "framerate = widgets.Dropdown(\n",
    "    options=['5', '10', '20'],\n",
    "    value='10',\n",
    "    description='Framerate:',\n",
    "    disabled=False,\n",
    ")"
   ]
  },
  {
   "cell_type": "code",
   "execution_count": 4,
   "metadata": {},
   "outputs": [],
   "source": [
    "uploader = widgets.FileUpload(\n",
    "    accept='.mov', \n",
    "    multiple=False\n",
    ")"
   ]
  },
  {
   "cell_type": "code",
   "execution_count": 5,
   "metadata": {},
   "outputs": [],
   "source": [
    "out = widgets.Output()"
   ]
  },
  {
   "cell_type": "code",
   "execution_count": 6,
   "metadata": {},
   "outputs": [
    {
     "data": {
      "application/vnd.jupyter.widget-view+json": {
       "model_id": "628505966ea747eeac5be299af5473ec",
       "version_major": 2,
       "version_minor": 0
      },
      "text/plain": [
       "Dropdown(description='Resolution:', options=('600x400', '800x600'), value='600x400')"
      ]
     },
     "metadata": {},
     "output_type": "display_data"
    },
    {
     "data": {
      "application/vnd.jupyter.widget-view+json": {
       "model_id": "505f72f267de485bac87184d2f5ab9e7",
       "version_major": 2,
       "version_minor": 0
      },
      "text/plain": [
       "Dropdown(description='Framerate:', index=1, options=('5', '10', '20'), value='10')"
      ]
     },
     "metadata": {},
     "output_type": "display_data"
    },
    {
     "data": {
      "application/vnd.jupyter.widget-view+json": {
       "model_id": "b9f484784b3d4349a2b6374244edd360",
       "version_major": 2,
       "version_minor": 0
      },
      "text/plain": [
       "FileUpload(value={}, accept='.mov', description='Upload')"
      ]
     },
     "metadata": {},
     "output_type": "display_data"
    },
    {
     "data": {
      "application/vnd.jupyter.widget-view+json": {
       "model_id": "385155fdbf1345aabf0955a3fd1a8ec7",
       "version_major": 2,
       "version_minor": 0
      },
      "text/plain": [
       "Output()"
      ]
     },
     "metadata": {},
     "output_type": "display_data"
    }
   ],
   "source": [
    "display(res, framerate, uploader, out)"
   ]
  },
  {
   "cell_type": "code",
   "execution_count": 7,
   "metadata": {},
   "outputs": [],
   "source": [
    "input_file = 'example.mov'"
   ]
  },
  {
   "cell_type": "code",
   "execution_count": 8,
   "metadata": {},
   "outputs": [],
   "source": [
    "output_file = 'out.gif'"
   ]
  },
  {
   "cell_type": "code",
   "execution_count": 9,
   "metadata": {},
   "outputs": [],
   "source": [
    "command_options = 'ffmpeg -i ' + input_file + ' -s ' + res.value + ' -pix_fmt rgb24 -r ' + framerate.value + ' -f gif - | gifsicle --optimize=3 --delay=3 > ' + output_file"
   ]
  },
  {
   "cell_type": "code",
   "execution_count": 10,
   "metadata": {},
   "outputs": [],
   "source": [
    "def run_refresh(*ignore):\n",
    "    for f in uploader.value.keys():\n",
    "        file_name, file_extension = os.path.splitext(f)\n",
    "        if file_extension == '.mov':\n",
    "            with open(input_file, \"wb\") as fp:\n",
    "                fp.write(uploader.value[f][\"content\"])\n",
    "            subprocess.check_output(command_options, shell=True, universal_newlines=True)\n",
    "            os.rename(output_file, file_name + '.gif')\n",
    "            os.remove(f)\n",
    "            with out:\n",
    "                display(HTML('<img src=\"{}\">'.format(file_name + '.gif')))\n",
    "        else: \n",
    "            print('Can not convert: ', f)"
   ]
  },
  {
   "cell_type": "code",
   "execution_count": 11,
   "metadata": {},
   "outputs": [],
   "source": [
    "uploader.observe(run_refresh, 'value')"
   ]
  },
  {
   "cell_type": "code",
   "execution_count": null,
   "metadata": {},
   "outputs": [],
   "source": []
  }
 ],
 "metadata": {
  "kernelspec": {
   "display_name": "Python 3",
   "language": "python",
   "name": "python3"
  },
  "language_info": {
   "codemirror_mode": {
    "name": "ipython",
    "version": 3
   },
   "file_extension": ".py",
   "mimetype": "text/x-python",
   "name": "python",
   "nbconvert_exporter": "python",
   "pygments_lexer": "ipython3",
   "version": "3.7.6"
  }
 },
 "nbformat": 4,
 "nbformat_minor": 4
}
